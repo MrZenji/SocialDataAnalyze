{
 "cells": [
  {
   "cell_type": "markdown",
   "metadata": {},
   "source": [
    "# Chapter 1:\n",
    "## Q1: Describe in your own words Joel's approach to finding key connectors.\n",
    "\n",
    "He starts finding the number of friends each person have, to then find how many connections there are in total.\n",
    "From there he find the average number of connections.\n",
    "Then he creates a sorted list of number of connections per scientist, from most poppular to least.\n",
    "\n",
    "## Q2: What is the meaning of node-size in Figure 1-2?\n",
    "\n",
    "If the node is small it means that it have few friend connections, if the node is large it means it have alot of friend connections.\n",
    "\n",
    "# Chapter 2:\n",
    "## Q1: In one line of text, what is the point of Python modules?\n",
    "\n",
    "Its used to get features that are not loaded by default.\n",
    "\n",
    "## Q2: Why does Joel use from __future__ import division?\n",
    "\n",
    "Because normal python division uses integer division.\n",
    "\n",
    "## Q3: How are tuples different from lists?\n",
    "\n",
    "All you can do with list, that is not modifying it, you can do to a tuple.\n",
    "Its also a easy way to return multiple values from functions.\n",
    "\n",
    "## Q4: Describe in your own words the purpose of generators.\n",
    "\n",
    "Is a way to iterate a sequence\n"
   ]
  },
  {
   "cell_type": "markdown",
   "metadata": {},
   "source": [
    "# Chapter 3:\n",
    "## Q1: Create your own version of Figure 3-1, but change the values, axes-labels, and the plot title. Just add the plot to the bottom of the notebook you've already been working for Part 3 of today's lecture."
   ]
  },
  {
   "cell_type": "code",
   "execution_count": 3,
   "metadata": {
    "collapsed": true
   },
   "outputs": [],
   "source": [
    "from matplotlib import pyplot as plt\n",
    "years = [2199, 2160, 2170, 2180, 2190, 2100, 2110]\n",
    "gdp = [340.2, 543.3, 1275.9, 2852.5, 5979.6, 10289.7, 14958.3]\n",
    "# create a line chart, years on x-axis, gdp on y-axis\n",
    "plt.plot(years, gdp, color='blue', marker='x', linestyle='solid')\n",
    "# add a title\n",
    "plt.title(\"This will not make sense GDP\")\n",
    "# add a label to the y-axis\n",
    "plt.ylabel(\"Billions of Nothing\")\n",
    "plt.show()"
   ]
  },
  {
   "cell_type": "markdown",
   "metadata": {},
   "source": [
    "<img src=\"Day1ex3q1.png\">"
   ]
  },
  {
   "cell_type": "markdown",
   "metadata": {},
   "source": [
    "## Q2: Create your own version of Figure 3-2, but change the values, axes-labels, and the plot title. Just add the plot to the bottom of the notebook you've already been working for Part 3 of today's lecture."
   ]
  },
  {
   "cell_type": "code",
   "execution_count": 5,
   "metadata": {
    "collapsed": true
   },
   "outputs": [],
   "source": [
    "movies = [\"Annies Balls\", \"Ben is Hurt\", \"Casablanca\", \"Grandhi\", \"West Side Is The Best Side\"]\n",
    "num_oscars = [4, 12, 5, 2, 7]\n",
    "# bars are by default width 0.8, so we'll add 0.1 to the left coordinates\n",
    "# so that each bar is centered\n",
    "xs = [i + 0.1 for i, _ in enumerate(movies)]\n",
    "# plot bars with left x-coordinates [xs], heights [num_oscars]\n",
    "plt.bar(xs, num_oscars)\n",
    "plt.ylabel(\"# of Nothing\")\n",
    "plt.title(\"Changed the names bro\")\n",
    "# label x-axis with movie names at bar centers\n",
    "plt.xticks([i + 0.5 for i, _ in enumerate(movies)], movies)\n",
    "plt.show()"
   ]
  },
  {
   "cell_type": "markdown",
   "metadata": {},
   "source": [
    "<img src=\"Day1ex3q2.png\">"
   ]
  },
  {
   "cell_type": "markdown",
   "metadata": {},
   "source": [
    "## Q3: What's the problem with the plot in Figure 3-4? Use Google (or your memory) find an example of this type of abuse on the internet and include it in your Notebook."
   ]
  },
  {
   "cell_type": "markdown",
   "metadata": {},
   "source": [
    "<img src=\"Day1ex3q3.png\">"
   ]
  },
  {
   "cell_type": "markdown",
   "metadata": {},
   "source": [
    "## Q4: Create your own version of Figure 3-9 and add to the notebook. Explain in your own words why 3-9 is a better representation of the data than 3-8."
   ]
  },
  {
   "cell_type": "code",
   "execution_count": 9,
   "metadata": {
    "collapsed": true
   },
   "outputs": [],
   "source": [
    "test_1_grades = [ 99, 90, 85, 97, 80]\n",
    "test_2_grades = [100, 85, 60, 90, 70]\n",
    "plt.scatter(test_1_grades, test_2_grades)\n",
    "plt.title(\"Axes Are Comparable\")\n",
    "plt.xlabel(\"test 1 grade\")\n",
    "plt.ylabel(\"test 2 grade\")\n",
    "plt.axis(\"equal\")\n",
    "plt.show()"
   ]
  },
  {
   "cell_type": "markdown",
   "metadata": {},
   "source": [
    "<img src=\"Day1ex3q4.png\">\n",
    "\n",
    "It centers the data to show that the difference is not that much."
   ]
  }
 ],
 "metadata": {
  "kernelspec": {
   "display_name": "Python 2",
   "language": "python",
   "name": "python2"
  },
  "language_info": {
   "codemirror_mode": {
    "name": "ipython",
    "version": 2
   },
   "file_extension": ".py",
   "mimetype": "text/x-python",
   "name": "python",
   "nbconvert_exporter": "python",
   "pygments_lexer": "ipython2",
   "version": "2.7.10"
  }
 },
 "nbformat": 4,
 "nbformat_minor": 0
}
