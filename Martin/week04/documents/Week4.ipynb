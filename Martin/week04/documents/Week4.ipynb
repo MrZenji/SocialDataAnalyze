








<!DOCTYPE html>
<html lang="en">

<head>
  <meta charset="utf-8">
  <title>Jupyter Notebook Viewer</title>
  <meta name="viewport" content="width=device-width, initial-scale=1.0">
  <meta name="description" content="">
  <meta name="author" content="">
  
  <meta name="robots" content="noindex,nofollow">
  

  <!--NEW RELIC Start Perf Measurement-->
  
  <!--NREND-->

  <!-- Le styles -->
  <script type="text/javascript">
//<![CDATA[
try{if (!window.CloudFlare) {var CloudFlare=[{verbose:0,p:0,byc:0,owlid:"cf",bag2:1,mirage2:0,oracle:0,paths:{cloudflare:"/cdn-cgi/nexp/dok3v=1613a3a185/"},atok:"ebc4e2ff884ea5a136372c1d3acf7b31",petok:"754f865661154469aa326e443e60c65643126107-1456210258-1800",zone:"jupyter.org",rocket:"0",apps:{"ga_key":{"ua":"UA-52617120-5","ga_bs":"2"}},sha2test:0}];!function(a,b){a=document.createElement("script"),b=document.getElementsByTagName("script")[0],a.async=!0,a.src="//ajax.cloudflare.com/cdn-cgi/nexp/dok3v=fb690a32f5/cloudflare.min.js",b.parentNode.insertBefore(a,b)}()}}catch(e){};
//]]>
</script>
<link href="/static/build/styles.css" rel="stylesheet">

  <!-- Le HTML5 shim, for IE6-8 support of HTML5 elements -->
  <!--[if lt IE 9]>
    <script src="http://html5shim.googlecode.com/svn/trunk/html5.js"></script>
  <![endif]-->

  <!-- Le fav and touch icons -->
  <link rel="shortcut icon" href="/static/ico/ipynb_icon_16x16.png">
  <link rel="apple-touch-icon-precomposed" sizes="144x144"
        href="/static/ico/apple-touch-icon-144-precomposed.png">
  <link rel="apple-touch-icon-precomposed" sizes="114x114"
        href="/static/ico/apple-touch-icon-114-precomposed.png">
  <link rel="apple-touch-icon-precomposed" sizes="72x72"
        href="/static/ico/apple-touch-icon-72-precomposed.png">
  <link rel="apple-touch-icon-precomposed"
        href="/static/ico/apple-touch-icon-57-precomposed.png">
  
  

  

  
  <meta name="twitter:card" content="summary">
  <meta name="twitter:title" content="Notebook on nbviewer">
  <meta name="twitter:description" content="Check out this Jupyter notebook!">

  
  <meta name="twitter:domain" content="nbviewer.ipython.org">
  <meta name="twitter:image:src" content="http://ipython.org/ipython-doc/dev/_images/ipynb_icon_128x128.png">

  
    <link href="/static/build/notebook.css" rel="stylesheet">
  

  

  
    <script src="https://cdn.mathjax.org/mathjax/latest/MathJax.js?config=TeX-AMS_HTML" type="text/javascript">
    </script>
    <script type="text/javascript">
      init_mathjax = function() {
        if (window.MathJax) {
          // MathJax loaded
          MathJax.Hub.Config({
            TeX: {
              equationNumbers: {
                autoNumber: "AMS",
                useLabelIds: true
              }
            },
            tex2jax: {
              inlineMath: [ ['$','$'], ["\\(","\\)"] ],
              displayMath: [ ['$$','$$'], ["\\[","\\]"] ],
              processEscapes: true,
              processEnvironments: true
            },
            displayAlign: 'center',
            "HTML-CSS": {
              styles: {'.MathJax_Display': {"margin": 0}},
              linebreaks: { automatic: true }
            }
          });
          MathJax.Hub.Queue(["Typeset", MathJax.Hub]);
        }
      }
      init_mathjax();
    </script>
  

<script type="text/javascript">
/* <![CDATA[ */
var _gaq = _gaq || [];
_gaq.push(['_setAccount', 'UA-52617120-5']);
_gaq.push(['_trackPageview']);

(function() {
var ga = document.createElement('script'); ga.type = 'text/javascript'; ga.async = true;
ga.src = ('https:' == document.location.protocol ? 'https://ssl' : 'http://www') + '.google-analytics.com/ga.js';
var s = document.getElementsByTagName('script')[0]; s.parentNode.insertBefore(ga, s);
})();

(function(b){(function(a){"__CF"in b&&"DJS"in b.__CF?b.__CF.DJS.push(a):"addEventListener"in b?b.addEventListener("load",a,!1):b.attachEvent("onload",a)})(function(){"FB"in b&&"Event"in FB&&"subscribe"in FB.Event&&(FB.Event.subscribe("edge.create",function(a){_gaq.push(["_trackSocial","facebook","like",a])}),FB.Event.subscribe("edge.remove",function(a){_gaq.push(["_trackSocial","facebook","unlike",a])}),FB.Event.subscribe("message.send",function(a){_gaq.push(["_trackSocial","facebook","send",a])}));"twttr"in b&&"events"in twttr&&"bind"in twttr.events&&twttr.events.bind("tweet",function(a){if(a){var b;if(a.target&&a.target.nodeName=="IFRAME")a:{if(a=a.target.src){a=a.split("#")[0].match(/[^?=&]+=([^&]*)?/g);b=0;for(var c;c=a[b];++b)if(c.indexOf("url")===0){b=unescape(c.split("=")[1]);break a}}b=void 0}_gaq.push(["_trackSocial","twitter","tweet",b])}})})})(window);
/* ]]> */
</script>
</head>

<body>

  <!-- These are loaded at the top of the body so they are available to
       notebook cells when they are loaded below. -->
  <script src="/static/components/jquery/dist/jquery.min.js"></script>
  <script src="/static/components/requirejs/require.js"></script>
  <script src="/static/components/moment/min/moment.min.js"></script>

<!-- Navbar
================================================== -->
  <nav id="menubar" class="navbar navbar-default navbar-fixed-top" data-spy="affix">
    <div class="container">
      <div class="navbar-header">
        <button type="button" class="navbar-toggle collapsed" data-toggle="collapse" data-target=".navbar-collapse">
          <span class="sr-only">Toggle navigation</span>
          <i class="fa fa-bars"></i>
        </button>
        <a class="navbar-brand" href="/">
          <img src="/static/img/nav_logo.svg" width="159"/>
        </a>
      </div>

      <div class="collapse navbar-collapse">
        <ul class="nav navbar-nav navbar-right">
          <li>
            <a class="active" href="http://jupyter.org">JUPYTER</a>
          </li>
          <li>
    <a href="/faq" title="FAQ" >
      
        <span>FAQ</span>
      
    </a>
  </li>

          
  
    
  

  
    <li>
    <a href="#" title="Python 2 Kernel" >
      <span class="fa fa-server fa-2x menu-icon"></span>
      <span class="menu-text">Python 2 Kernel</span>
    </a>
  </li>
  

  
    <li>
    <a href="https://github.com/suneman/socialdataanalysis2016/blob/master/lectures/Week4.ipynb" title="View on GitHub" >
      <span class="fa fa-github fa-2x menu-icon"></span>
      <span class="menu-text">View on GitHub</span>
    </a>
  </li>
  

  <li>
    <a href="https://raw.githubusercontent.com/suneman/socialdataanalysis2016/master/lectures/Week4.ipynb" title="Download Notebook" download>
      <span class="fa fa-download fa-2x menu-icon"></span>
      <span class="menu-text">Download Notebook</span>
    </a>
  </li>

        </ul>
      </div><!-- /.navbar-collapse -->
      
      
    </div>
  </nav>

  <div class="container container-main">
    
  
  <ol class="breadcrumb">
    
      <li>
        <a href="/github/suneman/socialdataanalysis2016/tree/master">socialdataanalysis2016</a>
      </li>
    
      <li>
        <a href="/github/suneman/socialdataanalysis2016/tree/master/lectures">lectures</a>
      </li>
    
  </ol>
  
  <div id="notebook">
    <div id="notebook-container">
      
<div class="cell border-box-sizing text_cell rendered">
<div class="prompt input_prompt">
</div>
<div class="inner_cell">
<div class="text_cell_render border-box-sizing rendered_html">
<h1 id="Week-4">Week 4<a class="anchor-link" href="#Week-4">&#182;</a></h1><h2 id="Overview">Overview<a class="anchor-link" href="#Overview">&#182;</a></h2><p>This week is all about regression. Linear regression, multiple regression, and logistic regression. It is extremely lucky that we're learning about regression because this is the tool we'll need to counter a new threat facing SF. It turns out that <em>there is a <strong>serial flasher</strong> on the loose in the city</em>, exposing his naked body to the unsuspecting citizens at all hours of the day and night. The flasher has earned the nickname <em>the Red Baron</em> because of his baboon-level red butt.</p>
<p>But I was so excited by the optional KNN exercise from last week, that we'll include that as well.</p>
<p>Here's a summary of the program:</p>
<ul>
<li>Sune will address the class and focus on two things: Signing in to <code>peergrade.io</code> and how we like that the book is "from scratch", but that we generally recommend that you guys use tools out there (such as <code>scikit-learn</code>) when you solve the exercises.</li>
<li>As a call-back to last time, we start by explore KNN to study the patterns of Drugs, Prostitution, and Drunk driving across SF. So if you did the optional exercise last time, this one will be easy</li>
<li></li>
</ul>

</div>
</div>
</div>
<div class="cell border-box-sizing text_cell rendered">
<div class="prompt input_prompt">
</div>
<div class="inner_cell">
<div class="text_cell_render border-box-sizing rendered_html">
<h2 id="Part-1:-KNN-revisited">Part 1: KNN revisited<a class="anchor-link" href="#Part-1:-KNN-revisited">&#182;</a></h2><blockquote><p><em>Exercise</em>: K-nearest-neighbors map.</p>
<p>The goal of this exercise is to create a useful real-world version of the example on pp153 in DSFS. We know from last week's exercises that the focus crimes <code>PROSTITUTION</code>, <code>DRUG/NARCOTIC</code> and <code>DRIVING UNDER THE INFLUENCE</code> tend to be concentrated in certain neighborhoods, so we focus on those crime types since they will make the most sense a KNN - map.</p>
<ul>
<li>Begin by using <code>geoplotlib</code> to plot all incidents of the three crime types on their own map using <a href="https://github.com/andrea-cuttone/geoplotlib/blob/master/examples/kde.py"><code>geoplotlib.kde()</code></a>. This will give you an idea of how the varioius crimes are distributed across the city.</li>
<li>Next, it's time to set up your model based on the actual data. You can use the code supplied in the book or try out <code>scikit-learn</code>'s <a href="http://scikit-learn.org/stable/modules/generated/sklearn.neighbors.KNeighborsClassifier.html"><code>KNeighborsClassifier</code></a>. If you end up using the latter (recommended), you may want to check out <a href="http://ogrisel.github.io/scikit-learn.org/sklearn-tutorial/auto_examples/tutorial/plot_knn_iris.html">this example</a> to get a sense of the usage.<ul>
<li>You don't have to think a lot about testing/trainig and accuracy for this exercise. We're mostly interested in creating a map that's not too problematic. <strong>But</strong> do calculate the number of observations of each crime-type respectively. You'll find that the levels of each crime varies (lots of drug arrests, an intermediate amount of prostitiution registered, and very little drunk driving in the dataset). Since the algorithm classifies each point according to it's neighbors, what could a consequence of this imbalance in the number of examples from each class mean for your map?</li>
<li>You can make the dataset 'balanced' by grabbing an equal number of examples from each crime category. How do you expect that will change the KNN result? In which situations is the balanced map useful - and when is the map that data in proportion to occurrences useful? Choose which map you will work on in the following. </li>
</ul>
</li>
<li>Now create an approximately square grid of point that runs over SF. You get to decide the grid-size, but I recommend somewhere between $50 \times 50$ and $100 \times 100$ points. I recommend plotting using <code>geoplotlib.dot()</code>. </li>
<li>Visualize your model by coloring the grid, coloring each grid point according to it's category. Create a plot of this kind for models where each point is colored according to the majority of its 5, 10, and 30 nearest neighbors. Describe what happens to the map as you increase the number of neighbors, <code>K</code>.  </li>
</ul>
</blockquote>

</div>
</div>
</div>
<div class="cell border-box-sizing text_cell rendered">
<div class="prompt input_prompt">
</div>
<div class="inner_cell">
<div class="text_cell_render border-box-sizing rendered_html">
<h2 id="Part-2:-Linear-Regression-(DSFS-Chapter-14)">Part 2: Linear Regression (DSFS Chapter 14)<a class="anchor-link" href="#Part-2:-Linear-Regression-(DSFS-Chapter-14)">&#182;</a></h2><blockquote><p><em>Reading</em>: Work through DSFS Chapter 14.</p>
</blockquote>
<p>Now it's time to watch a little Ole-video.</p>

</div>
</div>
</div>
<div class="cell border-box-sizing code_cell rendered">
<div class="input">
<div class="prompt input_prompt">In&nbsp;[11]:</div>
<div class="inner_cell">
    <div class="input_area">
<div class=" highlight hl-ipython2"><pre><span></span><span class="c1"># Ole discusses Linear Regression</span>
<span class="kn">from</span> <span class="nn">IPython.display</span> <span class="kn">import</span> <span class="n">YouTubeVideo</span>
<span class="n">YouTubeVideo</span><span class="p">(</span><span class="s2">&quot;_XK8JcpKsBw&quot;</span><span class="p">,</span><span class="n">width</span><span class="o">=</span><span class="mi">600</span><span class="p">,</span> <span class="n">height</span><span class="o">=</span><span class="mi">338</span><span class="p">)</span>
</pre></div>

</div>
</div>
</div>

<div class="output_wrapper">
<div class="output">


<div class="output_area"><div class="prompt output_prompt">Out[11]:</div>

<div class="output_html rendered_html output_subarea output_execute_result">

        <iframe
            width="600"
            height="338"
            src="https://www.youtube.com/embed/_XK8JcpKsBw"
            frameborder="0"
            allowfullscreen
        ></iframe>
        
</div>

</div>

</div>
</div>

</div>
<div class="cell border-box-sizing text_cell rendered">
<div class="prompt input_prompt">
</div>
<div class="inner_cell">
<div class="text_cell_render border-box-sizing rendered_html">
<blockquote><p><em>Exercises</em>: Just a few questions to check that you've read the material.</p>
<ul>
<li>What's the point of the error term $\epsilon_i$? (That one wasn't around when you learned how to figure out the slope and $y$ intercept of straight lines in high school).</li>
<li>Why do you think Joel figures out how to find $\alpha$ and $\beta$ using gradient descent when we already know how to find the best values analytically?</li>
</ul>
</blockquote>

</div>
</div>
</div>
<div class="cell border-box-sizing text_cell rendered">
<div class="prompt input_prompt">
</div>
<div class="inner_cell">
<div class="text_cell_render border-box-sizing rendered_html">
<h2 id="Part-3:-Building-an-understanding-of-Multiple-Regression-and-Logistic-Regression">Part 3: Building an understanding of Multiple Regression and Logistic Regression<a class="anchor-link" href="#Part-3:-Building-an-understanding-of-Multiple-Regression-and-Logistic-Regression">&#182;</a></h2><blockquote><p><em>Reading</em>: Start by reading DSFS Chapter 15.</p>
</blockquote>
<p>And let's watch another video to stimulate the visual part of your brain + get an expert's (Ole's) opinon on what's most important about Multiple regression.</p>

</div>
</div>
</div>
<div class="cell border-box-sizing code_cell rendered">
<div class="input">
<div class="prompt input_prompt">In&nbsp;[12]:</div>
<div class="inner_cell">
    <div class="input_area">
<div class=" highlight hl-ipython2"><pre><span></span><span class="c1"># Ole explains Multiple Regression</span>
<span class="n">YouTubeVideo</span><span class="p">(</span><span class="s2">&quot;lLWJbCFoB30&quot;</span><span class="p">,</span><span class="n">width</span><span class="o">=</span><span class="mi">600</span><span class="p">,</span> <span class="n">height</span><span class="o">=</span><span class="mi">338</span><span class="p">)</span>
</pre></div>

</div>
</div>
</div>

<div class="output_wrapper">
<div class="output">


<div class="output_area"><div class="prompt output_prompt">Out[12]:</div>

<div class="output_html rendered_html output_subarea output_execute_result">

        <iframe
            width="600"
            height="338"
            src="https://www.youtube.com/embed/lLWJbCFoB30"
            frameborder="0"
            allowfullscreen
        ></iframe>
        
</div>

</div>

</div>
</div>

</div>
<div class="cell border-box-sizing text_cell rendered">
<div class="prompt input_prompt">
</div>
<div class="inner_cell">
<div class="text_cell_render border-box-sizing rendered_html">
<blockquote><p><em>Exercises</em>: Now some questions for the text. Answer the following questions in your own words
</p>
<ul>
<li>It's a requirement that the inputs of the model are linearly independent. Why is that important? Illustrate what can go wrong using a simple example.</li>
<li>What is <em>bootstrap</em>? When is it useful?</li>
<li>What is <em>regularization</em>? In what cases is reqularization important? Illustrate what can go wrong using a simple example.</li>
</ul>
</blockquote>
<hr>
<blockquote><p><em>Reading</em>: Go over DSFS Chapter 16 on Logistic regression</p>
</blockquote>
<p>And then watch the corresponding video</p>

</div>
</div>
</div>
<div class="cell border-box-sizing code_cell rendered">
<div class="input">
<div class="prompt input_prompt">In&nbsp;[13]:</div>
<div class="inner_cell">
    <div class="input_area">
<div class=" highlight hl-ipython2"><pre><span></span><span class="c1"># Ole explains Logistic Regression</span>
<span class="n">YouTubeVideo</span><span class="p">(</span><span class="s2">&quot;CuJQazbT6d0&quot;</span><span class="p">,</span><span class="n">width</span><span class="o">=</span><span class="mi">600</span><span class="p">,</span> <span class="n">height</span><span class="o">=</span><span class="mi">338</span><span class="p">)</span>
</pre></div>

</div>
</div>
</div>

<div class="output_wrapper">
<div class="output">


<div class="output_area"><div class="prompt output_prompt">Out[13]:</div>

<div class="output_html rendered_html output_subarea output_execute_result">

        <iframe
            width="600"
            height="338"
            src="https://www.youtube.com/embed/CuJQazbT6d0"
            frameborder="0"
            allowfullscreen
        ></iframe>
        
</div>

</div>

</div>
</div>

</div>
<div class="cell border-box-sizing text_cell rendered">
<div class="prompt input_prompt">
</div>
<div class="inner_cell">
<div class="text_cell_render border-box-sizing rendered_html">
<h2 id="Part-4:-Use-regression-models-to-help-SFPD-capture-the-dreaded-Red-Baron">Part 4: Use regression models to help SFPD capture the dreaded <em>Red Baron</em><a class="anchor-link" href="#Part-4:-Use-regression-models-to-help-SFPD-capture-the-dreaded-Red-Baron">&#182;</a></h2>
</div>
</div>
</div>
<div class="cell border-box-sizing text_cell rendered">
<div class="prompt input_prompt">
</div>
<div class="inner_cell">
<div class="text_cell_render border-box-sizing rendered_html">
<p>You may remember from the <em>overview</em> that we've found a serial flasher on the loose in SF. He has earned the nickname <strong><em>The Red Baron</em></strong> because of his characteristic red butt, which is as red as a baboon's behind.</p>
<p>There's a new dataset (internally called <em>the x-files</em>), which is too classified to be put on the SFOpenData webpage. This dataset contains a new crime type called <code>INDECENT EXPOSURE</code> and you can download it <a href="https://raw.githubusercontent.com/suneman/socialdataanalysis2016/master/files/x-files.csv"><strong>here</strong></a>. (<em>Psst: let's get real for a second ... in case you were in doubt, this dataset has been made up by your loving teaching staff</em>). The dataset contains all indecent exposure cases (SF has a lot of those), not just those caused by the Red baron. Some of the cases, however, carry the label <code>Red Baron</code> (whenever a victim has spotted his highly conspicuous Red Rump).</p>
<p>In this dataset, due to a data error, we don't have the districts, but we have GPS locations.</p>
<blockquote><p><em>Exercise</em>: Your first exercise is localize where the Red Baron. The idea is to use the crimes labeled <code>INDECENT EXPOSURE</code> figure out where the Red Baron tends to strike. Each case has a <code>Resolution</code> field: in case of the Red Baron was recognized, it is indicated in this field, otherwise it shows <code>NONE</code>.
Use <strong>logistic regression</strong> to predict if we have the Red Baron or not provided we know the longitude and latitude of the crime.</p>
<ul>
<li><p>We will train our data to estimate the regression parameters and then validate the results by calculating performance measures on another chunk of the data. To achieve this, train your model using 80% of the data and then calculate regression performance on the rest 20%. Calculate accuracy, precision and recall to see how good our model is! (Note that the Red Baron appears only in later years, so avoid selecting the first 80% of the data, but pick random cases instead.).</p>
<p>Our input variables are the longitude and latitude of the cases, and output variables are whether the crime was committed by the Red Baron or not. Note that GPS coordinates have very low variance which can cause some trouble in the optimization. Try to rescale your training and validation sets into between 0 and 1 before performing the regression.</p>
</li>
<li>For the regression, you can use the code in the DSFS book (Chapters 14-16) for the regression, or the corresponding <a href="http://scikit-learn.org/stable/modules/generated/sklearn.linear_model.LogisticRegression.html#sklearn.linear_model.LogisticRegression">logistic regression method</a> in the scikit-learn module. Note that you don't need to write all code for yourself, for example, scipy provides a convenience method for high performance optimization: <a href="http://docs.scipy.org/doc/scipy/reference/generated/scipy.optimize.minimize.html#scipy.optimize.minimize">scipy.optimize.minimize</a>.</li>
<li>When you have the regression parameters, plot the cases along with the decision boundary (you don't need to worry about scaling the location variables, you can use the rescaled inputs)! Which district is that?</li>
<li>(Optional) Estimate how the regression parameters deviate by using bootstrapping. In this case, you can pick a small chunk of the data (500 cases for each output), run the regression on half of the selected data 100 times and then calculate the mean and standard deviation of the fit parameters.</li>
</ul>
</blockquote>
<p>Just to give you guys a sense of what you should be expecting, our performance values were:</p>
<ul>
<li><code>accuracy</code>:  0.891218</li>
<li><code>precision</code>: 0.783191</li>
<li><code>recall</code>:    0.941435</li>
</ul>
<p>And the rescaled coordinates and decision boundary looks something like this:</p>
<p><img src="https://raw.githubusercontent.com/suneman/socialdataanalysis2016/master/files/b.png" alt="the decision boundary"></p>

</div>
</div>
</div>
<div class="cell border-box-sizing text_cell rendered">
<div class="prompt input_prompt">
</div>
<div class="inner_cell">
<div class="text_cell_render border-box-sizing rendered_html">
<p>It's a high stress situation, and the heat is coming down from the public officials to stop this red-assed scurge on the beautiful city of San Francisco. Right as the police force is beginning to disintegrate and morale is dwindeling, Police chief Suneman brings forward the idea that the Red Baron may not as random as previously assumed.</p>
<p>Chief Suneman's idea is that the Red Baron might pick the time of his attacks according to a pattern that we can detect using the powers of data science (with great power comes great responsibility).</p>
<p>If he's right, we can identify the time of the next attack, which will help us end this insanity once and for all. Well, let's see if he is right!</p>
<blockquote><p>Exercise: Predict the Red Baron's pattern.</p>
<ul>
<li>Start from all cases having <code>Red Baron</code> in the resolution field and use the day of the week to predict the hour of the day when he is attacking, e.g. use <strong>linear regression</strong> to infer the hour of the day based on the weekday! Again, take 4/5 of the data for training and then calculate goodness of fit using $R^2$ on the rest 1/5. Don't forget to rescale your input variables! (Note 1: My goodness of fit after using the weekdays is only around 0.618). (Note 2: For multivariate regression, as always you can simply re-use the code in the DSFS book (Chapters 14-15) or scikit-learn).</li>
<li>Now, add the crime year as well to the input variables! Did the goodness of fit improve? (Note: Mine did to 0.809)</li>
<li>It is still very low. Inspired by a movie he once watched, Chief Suneman yells: "Let's add the longitude of the crimes as well!" Is your prediction getting better? (It should, to around 0.993)</li>
<li>Very nice! Why not add latitude as well? What do you find now?</li>
<li>(Optional) The gruff Deputy Chief Winther suspects that latitude has nothing to do with the time of crimes. Check this by estimating parameter deviations using the bootstrap method. What is the deviation of the coefficient for the latitude? Again, for bootstrap, you can use a small bit of the data (e.g., 500 crimes) to have a faster running time.</li>
</ul>
</blockquote>

</div>
</div>
</div>
<div class="cell border-box-sizing code_cell rendered">
<div class="input">
<div class="prompt input_prompt">In&nbsp;[&nbsp;]:</div>
<div class="inner_cell">
    <div class="input_area">
<div class=" highlight hl-ipython2"><pre><span></span> 
</pre></div>

</div>
</div>
</div>

</div>
    </div>
  </div>

  </div>


  
    <footer class="footer hidden-print">
      <div class="container">
        <div class="col-md-4">
          <p>
            This web site does not host notebooks, it only renders notebooks
            available on other websites.
          </p>
        </div>

        <div class="col-md-4">
          <p>
            Delivered by <a href="http://www.fastly.com/">Fastly</a>,
            Rendered by <a href="https://developer.rackspace.com/?nbviewer=awesome">Rackspace</a>
          </p>
          <p>
            nbviewer GitHub <a href="https://github.com/jupyter/nbviewer">repository</a>.
          </p>
        </div>

        <div class="col-md-4">
          
  
            
              <p>
                nbviewer version:
                <a href="https://github.com/jupyter/nbviewer/commit/f282e1a3f393cc046c0637d41a3d8da76886cd29">
                  f282e1a
                </a>
              </p>
            
          
  
  <p>
    notebook version: <a href="https://github.com/jupyter/notebook/releases/tag/4.1.0">
      4.1.0
    </a>
  </p>
  <p>
    nbconvert version: <a href="https://github.com/jupyter/nbconvert/releases/tag/4.1.0">
      4.1.0
    </a>
  </p>
  

          
  
  
  <p>
    Rendered
    <span class='date' data-date='Tue, 23 Feb 2016 06:40:22 UTC' title='Tue, 23 Feb 2016 06:40:22 UTC'>(Tue, 23 Feb 2016 06:40:22 UTC)</span>
  </p>
  

        </div>
      </div>
    </footer>
  

  <script src="/static/components/bootstrap/js/bootstrap.min.js"></script>
  <script src="/static/components/headroom.js/dist/headroom.min.js"></script>
  <script src="/static/components/headroom.js/dist/jQuery.headroom.min.js"></script>

  
  
  <script>
    $(function(){ $("#menubar").headroom({
      tolerance: 5,
      offset: 205,
      classes: {
        initial: "animated",
        pinned: "slideInDown",
        unpinned: "slideOutUp"
      }
    })});
  </script>


  <script>
    (function(i,s,o,g,r,a,m){i['GoogleAnalyticsObject']=r;i[r]=i[r]||function(){
      (i[r].q=i[r].q||[]).push(arguments)},i[r].l=1*new Date();a=s.createElement(o),
      m=s.getElementsByTagName(o)[0];a.async=1;a.src=g;m.parentNode.insertBefore(a,m)
    })(window,document,'script','//www.google-analytics.com/analytics.js','ga');
    ga('create', 'UA-38683231-2', 'auto');
    ga('send', 'pageview');
  </script>
  <script>
    require({
        paths: {
          moment: "/static/components/moment/min/moment.min.js"
        }
      }, ["moment"], function(moment){
      var date = $("footer .date"),
        m = moment(new Date(date.data('date'))),
        update = function(){ date.text(m.fromNow()); };
      setInterval(update, 61*1000);
      update();
      var w = $(window).scroll(function(event){
        $("body").toggleClass("scrolled", w.scrollTop() > 0);
      });
    });
  </script>
  <!--NEW RELIC Stop Perf Measurement-->
  
  <!--NEW RELIC End-->
</body>
</html>