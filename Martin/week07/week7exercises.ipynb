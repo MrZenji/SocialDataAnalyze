{
 "cells": [
  {
   "cell_type": "markdown",
   "metadata": {},
   "source": [
    "# Week 7"
   ]
  },
  {
   "cell_type": "markdown",
   "metadata": {},
   "source": [
    "## Part 4: The exercises"
   ]
  },
  {
   "cell_type": "markdown",
   "metadata": {},
   "source": [
    "### Data Collection for exercise 4 visualization 1"
   ]
  },
  {
   "cell_type": "code",
   "execution_count": 1,
   "metadata": {
    "collapsed": false
   },
   "outputs": [],
   "source": [
    "# first we read the data\n",
    "# import csv utilities, counter, defaultdict and numpy\n",
    "import csv\n",
    "import numpy as np\n",
    "from collections import Counter\n",
    "\n",
    "# setup the the counters\n",
    "crimes = []\n",
    "focuscrimes = ['PROSTITUTION', 'VEHICLE THEFT']\n",
    "pros2003 = {}\n",
    "pros2015 = {}\n",
    "vehi2003 = {}\n",
    "vehi2015 = {}\n",
    "crimes2003 = Counter()\n",
    "crimes2015 = Counter()\n",
    "with open('SFPD_Incidents_-_from_1_January_2003.csv') as f:\n",
    "    reader = csv.DictReader(f, delimiter=',')\n",
    "    for row in reader:\n",
    "        if int(row['Date'].split(\"/\")[-1]) == 2003:\n",
    "            crimes2003[row['PdDistrict']] += 1\n",
    "        elif int(row['Date'].split(\"/\")[-1]) == 2015:\n",
    "            crimes2015[row['PdDistrict']] += 1\n",
    "            \n",
    "        if row['Category'] == 'PROSTITUTION':\n",
    "            if int(row['Date'].split(\"/\")[-1]) == 2003:\n",
    "                if pros2003.has_key(row['PdDistrict']):\n",
    "                    pros2003[row['PdDistrict']] += 1\n",
    "                else:\n",
    "                    pros2003[row['PdDistrict']] = 1\n",
    "            elif int(row['Date'].split(\"/\")[-1]) == 2015:\n",
    "                if pros2015.has_key(row['PdDistrict']):\n",
    "                    pros2015[row['PdDistrict']] += 1\n",
    "                else:\n",
    "                    pros2015[row['PdDistrict']] = 1\n",
    "        elif row['Category'] == 'VEHICLE THEFT':\n",
    "            if int(row['Date'].split(\"/\")[-1]) == 2003:\n",
    "                if vehi2003.has_key(row['PdDistrict']):\n",
    "                    vehi2003[row['PdDistrict']] += 1\n",
    "                else:\n",
    "                    vehi2003[row['PdDistrict']] = 1\n",
    "            elif int(row['Date'].split(\"/\")[-1]) == 2015:\n",
    "                if vehi2015.has_key(row['PdDistrict']):\n",
    "                    vehi2015[row['PdDistrict']] += 1\n",
    "                else:\n",
    "                    vehi2015[row['PdDistrict']] = 1"
   ]
  },
  {
   "cell_type": "code",
   "execution_count": 2,
   "metadata": {
    "collapsed": false
   },
   "outputs": [],
   "source": [
    "# write prostitution and vehicle theft to csv\n",
    "with open('prostitution_vehicle.csv', 'wb') as csvfile:\n",
    "    writer = csv.writer(csvfile, quoting=csv.QUOTE_MINIMAL)\n",
    "    writer.writerow(['district', 'crime', 'year', 'amount', 'total'])\n",
    "    for (district, crimes) in pros2003.items():\n",
    "        writer.writerow([district, 'PROSTITUTION', '2003', crimes, crimes2003[district]])\n",
    "        \n",
    "    for (district, crimes) in pros2015.items():\n",
    "        writer.writerow([district, 'PROSTITUTION', '2015', crimes, crimes2015[district]])\n",
    "\n",
    "    \n",
    "    for (district, crimes) in vehi2003.items():\n",
    "        writer.writerow([district, 'VEHICLE THEFT', '2003', crimes, crimes2003[district]])\n",
    "        \n",
    "    for (district, crimes) in vehi2015.items():\n",
    "        writer.writerow([district, 'VEHICLE THEFT', '2015', crimes, crimes2015[district]])"
   ]
  },
  {
   "cell_type": "markdown",
   "metadata": {
    "collapsed": true
   },
   "source": [
    "### Explain in your own words why you think I want the axes to be the same for both years? (Even though you know how to make axes adapt to the data values.)"
   ]
  },
  {
   "cell_type": "markdown",
   "metadata": {},
   "source": [
    "The reason for making the axis the same is so you get a picture of the change over time and can see how much the different districts have moved. This also gives a better understanding of how much the crimes have changed over time."
   ]
  },
  {
   "cell_type": "markdown",
   "metadata": {},
   "source": [
    "### Data Collection for exercise 4 visualization 2"
   ]
  },
  {
   "cell_type": "code",
   "execution_count": 6,
   "metadata": {
    "collapsed": false
   },
   "outputs": [],
   "source": [
    "#import defaultdict\n",
    "from collections import defaultdict\n",
    "# focus crimes\n",
    "focuscrimes = set(['WEAPON LAWS', 'PROSTITUTION', 'DRIVING UNDER THE INFLUENCE', 'ROBBERY', 'BURGLARY', 'ASSAULT', 'DRUNKENNESS', 'DRUG/NARCOTIC', 'TRESPASS', 'LARCENY/THEFT', 'VANDALISM', 'VEHICLE THEFT', 'STOLEN PROPERTY', 'DISORDERLY CONDUCT'])\n",
    "\n",
    "# filter the crimes acording to type and year \n",
    "crimes = defaultdict(dict)\n",
    "\n",
    "# read the file again\n",
    "with open('SFPD_Incidents_-_from_1_January_2003.csv') as f:\n",
    "    reader = csv.DictReader(f, delimiter=',')\n",
    "    for row in reader:\n",
    "        if row['Category'] in focuscrimes and int( row['Date'].split(\"/\")[-1] ) in range(2003, 2015):\n",
    "            if crimes.has_key(row['Category']) and crimes[row['Category']].has_key(int(row['Date'].split(\"/\")[-1] )): \n",
    "                crimes[row['Category']][int(row['Date'].split(\"/\")[-1] )] += 1\n",
    "            else:\n",
    "                crimes[row['Category']][int(row['Date'].split(\"/\")[-1] )] = 1\n",
    "\n",
    "               \n",
    "# write data to a crime per year file\n",
    "with open('crime_per_year.csv', 'wb') as csvfile:\n",
    "    writer = csv.writer(csvfile, quoting=csv.QUOTE_MINIMAL)\n",
    "    writer.writerow(['crime', 'year', 'count'])\n",
    "    for crime in focuscrimes:\n",
    "        focuscrime = crimes[crime]\n",
    "        for year, count in focuscrime.items():\n",
    "            writer.writerow([crime, year, count])        "
   ]
  },
  {
   "cell_type": "markdown",
   "metadata": {
    "collapsed": true
   },
   "source": [
    "The graphs that shows the data can be seen at [this page](http://martinskytte.github.io/week7)"
   ]
  },
  {
   "cell_type": "code",
   "execution_count": null,
   "metadata": {
    "collapsed": true
   },
   "outputs": [],
   "source": []
  }
 ],
 "metadata": {
  "kernelspec": {
   "display_name": "Python 2",
   "language": "python",
   "name": "python2"
  },
  "language_info": {
   "codemirror_mode": {
    "name": "ipython",
    "version": 2
   },
   "file_extension": ".py",
   "mimetype": "text/x-python",
   "name": "python",
   "nbconvert_exporter": "python",
   "pygments_lexer": "ipython2",
   "version": "2.7.11"
  }
 },
 "nbformat": 4,
 "nbformat_minor": 0
}
