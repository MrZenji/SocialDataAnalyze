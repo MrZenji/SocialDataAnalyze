{
 "cells": [
  {
   "cell_type": "markdown",
   "metadata": {},
   "source": [
    "# Part 2: Statistics (DSFS Chapter 5)"
   ]
  },
  {
   "cell_type": "markdown",
   "metadata": {},
   "source": [
    "## _Exercises_: Chapter 5 (just some questions from the text)"
   ]
  },
  {
   "cell_type": "markdown",
   "metadata": {},
   "source": [
    "### Mean and median: Explain the difference between the mean and the median in your own words. In what kinds of dataset are the mean and median similar? Can you think of a dataset where the mean and median would be very different?"
   ]
  },
  {
   "cell_type": "markdown",
   "metadata": {},
   "source": [
    "The deference between median and mean is, that the mean is the average of all elements. Where the median is the elements sorted from smallest to largest, if the list is odd then the median is the middle number, if the list is even the two middlemost elements are added together and then divided by two. Or said in other words if the list is even we take the mean of the two middlemost numbers."
   ]
  },
  {
   "cell_type": "markdown",
   "metadata": {},
   "source": [
    "### Variance: Explain the variance in your own words."
   ]
  },
  {
   "cell_type": "markdown",
   "metadata": {},
   "source": [
    "The variance is how much difference there is in the responses from the calculation"
   ]
  },
  {
   "cell_type": "markdown",
   "metadata": {},
   "source": [
    "### A paradox: What is Simpson's Paradox. Provide your own example of a dataset where this issue occurs."
   ]
  },
  {
   "cell_type": "markdown",
   "metadata": {},
   "source": [
    "This is best explained by looking at the data, The paradox is that at first the data points you in one direction, but when the underlying data is examined the data points in a different direction."
   ]
  },
  {
   "cell_type": "markdown",
   "metadata": {},
   "source": [
    "### Correlation and causation: Explain what's funny about [**this comic**](https://xkcd.com/552/)."
   ]
  },
  {
   "cell_type": "markdown",
   "metadata": {},
   "source": [
    "The comic is funny because the one person at thinks that correlation implied causation. But in statistics this is not always true. Then when he takes a statistics class and finds out that is not always the case. Therefore the statistics class caused that the person, now knows that a correlation not always implies causation."
   ]
  },
  {
   "cell_type": "markdown",
   "metadata": {},
   "source": [
    "## _Exercise_: Chapter 5 (beyond the book)"
   ]
  },
  {
   "cell_type": "markdown",
   "metadata": {},
   "source": [
    "First we download the datasets and make them into a numpy array so it can be used with the fast datastructure numpy is providing"
   ]
  },
  {
   "cell_type": "code",
   "execution_count": 1,
   "metadata": {
    "collapsed": false
   },
   "outputs": [],
   "source": [
    "from urllib2 import urlopen\n",
    "from StringIO import StringIO\n",
    "\n",
    "# Import numpy\n",
    "import numpy as np\n",
    "\n",
    "# Get data 1 file from the net and put it into an numpy array\n",
    "idata1 = urlopen('https://dl.dropboxusercontent.com/u/153071/teaching/02806_2016/data1.tsv').read()\n",
    "data1 = np.genfromtxt(StringIO(idata1))\n",
    "\n",
    "# Get data 2 file from the net and put it into an numpy array\n",
    "idata2 = urlopen('https://dl.dropboxusercontent.com/u/153071/teaching/02806_2016/data2.tsv').read()\n",
    "data2 = np.genfromtxt(StringIO(idata2))\n",
    "\n",
    "# Get data 3 file from the net and put it into an numpy array\n",
    "idata3 = urlopen('https://dl.dropboxusercontent.com/u/153071/teaching/02806_2016/data3.tsv').read()\n",
    "data3 = np.genfromtxt(StringIO(idata3))\n",
    "\n",
    "# Get data 4 file from the net and put it into an numpy array\n",
    "idata4 = urlopen('https://dl.dropboxusercontent.com/u/153071/teaching/02806_2016/data4.tsv').read()\n",
    "data4 = np.genfromtxt(StringIO(idata4))"
   ]
  },
  {
   "cell_type": "markdown",
   "metadata": {},
   "source": [
    "### Using the numpy function mean, calculate the mean of both x-values and y-values for each dataset. "
   ]
  },
  {
   "cell_type": "code",
   "execution_count": 2,
   "metadata": {
    "collapsed": true
   },
   "outputs": [],
   "source": [
    "# Calculate mean of column as axis x and y\n",
    "meanData1 = np.mean(data1, axis=0)\n",
    "meanData2 = np.mean(data2, axis=0)\n",
    "meanData3 = np.mean(data3, axis=0)\n",
    "meanData4 = np.mean(data4, axis=0)"
   ]
  },
  {
   "cell_type": "markdown",
   "metadata": {},
   "source": [
    "### Use python string formatting to print precisely two decimal places of these results to the output cell. Check out [this _stackoverflow_ page](http://stackoverflow.com/questions/8885663/how-to-format-a-floating-number-to-fixed-width-in-python) for help with the string formatting. "
   ]
  },
  {
   "cell_type": "code",
   "execution_count": 3,
   "metadata": {
    "collapsed": false
   },
   "outputs": [
    {
     "name": "stdout",
     "output_type": "stream",
     "text": [
      "data1 x:      9.00 y:      7.50\n",
      "data2 x:      9.00 y:      7.50\n",
      "data3 x:      9.00 y:      7.50\n",
      "data4 x:      9.00 y:      7.50\n"
     ]
    }
   ],
   "source": [
    "# Print data values as data name x: value y: value where value is in format of 0.00\n",
    "print \"data1 x:\" + \"{:10.2f}\".format(meanData1[0]) + \" y:\" + \"{:10.2f}\".format(meanData1[1])\n",
    "print \"data2 x:\" + \"{:10.2f}\".format(meanData2[0]) + \" y:\" + \"{:10.2f}\".format(meanData2[1])\n",
    "print \"data3 x:\" + \"{:10.2f}\".format(meanData3[0]) + \" y:\" + \"{:10.2f}\".format(meanData3[1])\n",
    "print \"data4 x:\" + \"{:10.2f}\".format(meanData4[0]) + \" y:\" + \"{:10.2f}\".format(meanData4[1])"
   ]
  },
  {
   "cell_type": "markdown",
   "metadata": {},
   "source": [
    "### Now calculate the variance for all of the various sets of $x$- and $y$-values (to three decimal places)."
   ]
  },
  {
   "cell_type": "code",
   "execution_count": 4,
   "metadata": {
    "collapsed": false
   },
   "outputs": [
    {
     "name": "stdout",
     "output_type": "stream",
     "text": [
      "[ 10.      3.752]\n",
      "[ 10.      3.752]\n",
      "[ 10.      3.748]\n",
      "[ 10.      3.748]\n"
     ]
    }
   ],
   "source": [
    "# calculate variance to three decimals\n",
    "varData1 = np.around(np.var(data1, axis=0), decimals=3)\n",
    "varData2 = np.around(np.var(data2, axis=0), decimals=3)\n",
    "varData3 = np.around(np.var(data3, axis=0), decimals=3)\n",
    "varData4 = np.around(np.var(data4, axis=0), decimals=3)\n",
    "\n",
    "print varData1\n",
    "print varData2\n",
    "print varData3\n",
    "print varData4"
   ]
  },
  {
   "cell_type": "markdown",
   "metadata": {},
   "source": [
    "### Use `numpy` to calculate the [Pearson correlation](https://en.wikipedia.org/wiki/Pearson_product-moment_correlation_coefficient) between $x$- and $y$-values for all four data sets (also to three decimal places)."
   ]
  },
  {
   "cell_type": "code",
   "execution_count": 5,
   "metadata": {
    "collapsed": false
   },
   "outputs": [
    {
     "name": "stdout",
     "output_type": "stream",
     "text": [
      "0.816\n",
      "0.816\n",
      "0.816\n",
      "0.817\n"
     ]
    }
   ],
   "source": [
    "# calculate the  Pearson correlation \n",
    "perData1 = np.around(np.corrcoef(data1[:,0], data1[:,1])[0, 1], decimals=3)\n",
    "perData2 = np.around(np.corrcoef(data2[:,0], data2[:,1])[0, 1], decimals=3)\n",
    "perData3 = np.around(np.corrcoef(data3[:,0], data3[:,1])[0, 1], decimals=3)\n",
    "perData4 = np.around(np.corrcoef(data4[:,0], data4[:,1])[0, 1], decimals=3)\n",
    "\n",
    "print perData1\n",
    "print perData2\n",
    "print perData3\n",
    "print perData4"
   ]
  },
  {
   "cell_type": "markdown",
   "metadata": {
    "collapsed": true
   },
   "source": [
    "The next step is use _linear regression_ to fit a straight line $f(x) = a x + b$ through each dataset and report $a$ and $b$ (to two decimal places). An easy way to fit a straight line in Python is using `scipy`'s `linregress`. It works like this\n",
    "> ```\n",
    "> from scipy import stats\n",
    "> slope, intercept, r_value, p_value, std_err = stats.linregress(x,y)\n",
    ">```"
   ]
  },
  {
   "cell_type": "code",
   "execution_count": 6,
   "metadata": {
    "collapsed": true
   },
   "outputs": [],
   "source": [
    "# import stats from scipy\n",
    "from scipy import stats\n",
    "\n",
    "# get the data for the linregress for each dataset\n",
    "data1slope, data1intercept, data1r_value, data1p_value, data1std_err = stats.linregress(data1)\n",
    "data2slope, data2intercept, data2r_value, data2p_value, data2std_err = stats.linregress(data2)\n",
    "data3slope, data3intercept, data3r_value, data3p_value, data3std_err = stats.linregress(data3)\n",
    "data4slope, data4intercept, data4r_value, data4p_value, data4std_err = stats.linregress(data4)"
   ]
  },
  {
   "cell_type": "markdown",
   "metadata": {
    "collapsed": true
   },
   "source": [
    "### Finally, it's time to plot the four datasets using `matplotlib.pyplot`. Use a two-by-two [`subplot`](http://matplotlib.org/examples/pylab_examples/subplot_demo.html) to put all of the plots nicely in a grid and use the same $x$ and $y$ range for all four plots. And include the linear fit in all four plots. (To get a sense of what I think the plot should look like, you can take a look at my version [here](https://dl.dropboxusercontent.com/u/153071/teaching/02806_2016/anscombe.png).)"
   ]
  },
  {
   "cell_type": "code",
   "execution_count": 7,
   "metadata": {
    "collapsed": false
   },
   "outputs": [
    {
     "data": {
      "image/png": "[encoded data removed]",
      "text/plain": [
       "<matplotlib.figure.Figure at 0x6bb5278>"
      ]
     },
     "metadata": {},
     "output_type": "display_data"
    }
   ],
   "source": [
    "# Make plot inline\n",
    "%matplotlib inline\n",
    "#import matplotlib\n",
    "import matplotlib.pyplot as plt\n",
    "\n",
    "fig = plt.figure(figsize=(15, 10))\n",
    "\n",
    "# make first plot from data1 set it in left upper corner\n",
    "plt.subplot(2, 2, 1)\n",
    "\n",
    "# set limits of plot\n",
    "plt.xlim([0,20])\n",
    "plt.ylim([0,14])\n",
    "\n",
    "# make the linregression in format ax+b\n",
    "line1 = data1slope*data1[:,0]+data1intercept\n",
    "\n",
    "#insert datapoints and linregressinon into plot\n",
    "plt.plot(data1[:,0],line1,'r-',data1[:,0],data1[:,1],'o')\n",
    "\n",
    "\n",
    "# make second plot from data1 set it in left upper corner\n",
    "plt.subplot(2, 2, 2)\n",
    "\n",
    "# set limits of plot\n",
    "plt.xlim([0,20])\n",
    "plt.ylim([0,14])\n",
    "\n",
    "# make the linregression in format ax+b\n",
    "line2 = data2slope*data2[:,0]+data2intercept\n",
    "\n",
    "#insert datapoints and linregressinon into plot\n",
    "plt.plot(data2[:,0],line2,'r-',data2[:,0],data2[:,1],'o')\n",
    "\n",
    "\n",
    "# make third plot from data1 set it in left upper corner\n",
    "plt.subplot(2, 2, 3)\n",
    "\n",
    "# set limits of plot\n",
    "plt.xlim([0,20])\n",
    "plt.ylim([0,14])\n",
    "\n",
    "# make the linregression in format ax+b\n",
    "line3 = data3slope*data3[:,0]+data3intercept\n",
    "\n",
    "#insert datapoints and linregressinon into plot\n",
    "plt.plot(data3[:,0],line3,'r-',data3[:,0],data3[:,1],'o')\n",
    "\n",
    "\n",
    "# make third plot from data1 set it in left upper corner\n",
    "plt.subplot(2, 2, 4)\n",
    "\n",
    "# set limits of plot\n",
    "plt.xlim([0,20])\n",
    "plt.ylim([0,14])\n",
    "\n",
    "# make the linregression in format ax+b\n",
    "line4 = data4slope*data4[:,0]+data4intercept\n",
    "\n",
    "#insert datapoints and linregressinon into plot\n",
    "plt.plot(data4[:,0],line4,'r-',data4[:,0],data4[:,1],'o')\n",
    "\n",
    "# show the plot\n",
    "plt.show()"
   ]
  },
  {
   "cell_type": "markdown",
   "metadata": {},
   "source": [
    "### Explain - in your own words - what you think my point with this exercise is."
   ]
  },
  {
   "cell_type": "markdown",
   "metadata": {},
   "source": [
    "The point with the exercise is to show the simpson paradox, and how if you look at the data the visually you can see that it is very different. But if you look at the pure numbers from the top, the data look very similar therefore the conclusions sometimes needs to be visualized for one to get a point across"
   ]
  },
  {
   "cell_type": "markdown",
   "metadata": {},
   "source": [
    "# Part 3: Probability (DSFS Chapter 6)"
   ]
  },
  {
   "cell_type": "code",
   "execution_count": null,
   "metadata": {
    "collapsed": true
   },
   "outputs": [],
   "source": []
  },
  {
   "cell_type": "code",
   "execution_count": null,
   "metadata": {
    "collapsed": true
   },
   "outputs": [],
   "source": []
  },
  {
   "cell_type": "code",
   "execution_count": null,
   "metadata": {
    "collapsed": true
   },
   "outputs": [],
   "source": []
  },
  {
   "cell_type": "code",
   "execution_count": null,
   "metadata": {
    "collapsed": true
   },
   "outputs": [],
   "source": []
  },
  {
   "cell_type": "code",
   "execution_count": null,
   "metadata": {
    "collapsed": true
   },
   "outputs": [],
   "source": []
  },
  {
   "cell_type": "markdown",
   "metadata": {},
   "source": [
    "## _Exercise_: Central limit theorem "
   ]
  },
  {
   "cell_type": "markdown",
   "metadata": {},
   "source": [
    "### Use Python's `random` module to simulate rolling a fair six-sided die 10 000 000 times."
   ]
  },
  {
   "cell_type": "code",
   "execution_count": 8,
   "metadata": {
    "collapsed": false
   },
   "outputs": [],
   "source": [
    "# import random from python\n",
    "import random\n",
    "\n",
    "# make list of 1000000 die rolls\n",
    "rolls = [random.choice([1, 2, 3, 4, 5, 6]) for _ in range(10000000)]"
   ]
  },
  {
   "cell_type": "markdown",
   "metadata": {},
   "source": [
    "### Plot the distribution of dice rolls using a bar-chart. _Hint_: Use `counter` (see p. 24) to bin the values, then go back to Chapter 3 for examples of how to plot bar-charts (or try Google $\\rightarrow$ _stackoverflow_)."
   ]
  },
  {
   "cell_type": "code",
   "execution_count": 9,
   "metadata": {
    "collapsed": false
   },
   "outputs": [
    {
     "data": {
      "image/png": "[encoded data removed]",
      "text/plain": [
       "<matplotlib.figure.Figure at 0x6badd30>"
      ]
     },
     "metadata": {},
     "output_type": "display_data"
    }
   ],
   "source": [
    "# import counter from collection\n",
    "from collections import Counter\n",
    "\n",
    "# count the number of rolls by each number\n",
    "counter = Counter(rolls)\n",
    "\n",
    "# setup plot\n",
    "labels, values = zip(*Counter(rolls).items())\n",
    "indexes = np.arange(len(labels))\n",
    "width = 0.5\n",
    "\n",
    "plt.bar(indexes, values, width)\n",
    "plt.xticks(indexes + width * 0.5, labels)\n",
    "plt.ylabel('Number of rolls')\n",
    "plt.xlabel('Number on dice')\n",
    "plt.title('Rolls with a die')\n",
    "\n",
    "plt.show()"
   ]
  },
  {
   "cell_type": "markdown",
   "metadata": {},
   "source": [
    "### Describe the shape of the distribution."
   ]
  },
  {
   "cell_type": "markdown",
   "metadata": {},
   "source": [
    "The distribution is flat and looks even"
   ]
  },
  {
   "cell_type": "markdown",
   "metadata": {},
   "source": [
    "### Now perform a new simulation. Roll a fair six-sided die 10 times and take the _average_. Do that 1 000 000 times."
   ]
  },
  {
   "cell_type": "code",
   "execution_count": 10,
   "metadata": {
    "collapsed": false
   },
   "outputs": [],
   "source": [
    "# import division so the average is decimal\n",
    "from __future__ import division\n",
    "\n",
    "# function for rolling 10 times and taking the average\n",
    "def rollTenAverage():\n",
    "    rolls = [random.choice([1, 2, 3, 4, 5, 6]) for _ in range(10)]\n",
    "    return sum(rolls) / len(rolls)\n",
    "\n",
    "# take average of 10 rolls of a die 1000000 times\n",
    "rolls = [rollTenAverage() for _ in range(100000)]"
   ]
  },
  {
   "cell_type": "markdown",
   "metadata": {},
   "source": [
    "### Plot the distribution of those average values. This time you can't use `counter` (since the averages are not integer values). "
   ]
  },
  {
   "cell_type": "code",
   "execution_count": 11,
   "metadata": {
    "collapsed": false
   },
   "outputs": [
    {
     "data": {
      "image/png": "[encoded data removed]",
      "text/plain": [
       "<matplotlib.figure.Figure at 0x81490b8>"
      ]
     },
     "metadata": {},
     "output_type": "display_data"
    }
   ],
   "source": [
    "# plot the values\n",
    "\n",
    "plt.hist(rolls, bins=25)\n",
    "plt.show()"
   ]
  },
  {
   "cell_type": "markdown",
   "metadata": {},
   "source": [
    "### Instead use `numpy.histogram` to bin those number into 25 bins. "
   ]
  },
  {
   "cell_type": "code",
   "execution_count": 12,
   "metadata": {
    "collapsed": false
   },
   "outputs": [],
   "source": [
    "# make list into numpy array\n",
    "arrRolls = np.asarray(rolls)\n",
    "\n",
    "# make numpy histogram\n",
    "history, bin_edges = np.histogram(arrRolls, 25)"
   ]
  },
  {
   "cell_type": "markdown",
   "metadata": {
    "collapsed": true
   },
   "source": [
    "### What does the numpy.histogram function return? Do the two arrays have the same length?"
   ]
  },
  {
   "cell_type": "markdown",
   "metadata": {
    "collapsed": true
   },
   "source": [
    "The histogram returns two arrays with one with the data which is called history and one with the edges of the bins called bin_edges. The bin_edges array is one element longer then then histogram, because it defines the edges that holds the history"
   ]
  },
  {
   "cell_type": "markdown",
   "metadata": {},
   "source": [
    "### Then let's use matplotlib.pyplot.bar to plot the binned data. You will have to deal with the fact that the counts- and bin-arrays have different lengths. Explain how you deal with this problem and why."
   ]
  },
  {
   "cell_type": "code",
   "execution_count": 13,
   "metadata": {
    "collapsed": false
   },
   "outputs": [
    {
     "data": {
      "image/png": "[encoded data removed]",
      "text/plain": [
       "<matplotlib.figure.Figure at 0x1f7a6e48>"
      ]
     },
     "metadata": {},
     "output_type": "display_data"
    }
   ],
   "source": [
    "# plot history\n",
    "width = 0.7 * (bin_edges[1] - bin_edges[0])\n",
    "center = (bin_edges[:-1] + bin_edges[1:]) / 2\n",
    "plt.bar(center, history, align='center', width=width)\n",
    "\n",
    "plt.show()"
   ]
  },
  {
   "cell_type": "markdown",
   "metadata": {
    "collapsed": true
   },
   "source": [
    "I deal with the different lengths by making the bin_edges array into an array of same length as the histogram, and centering the data between two bin_edges. This is done by splicing the bin_edges array into an array which goes from [0-bin_edges_lenght-1] and an array that goes from [1-bin_edges_length]. Then these two arrays are added together and divided by 2, so we find the center of each bin. Then it is just a matter of plotting it normally"
   ]
  },
  {
   "cell_type": "markdown",
   "metadata": {
    "collapsed": true
   },
   "source": [
    "### Describe the shape of this distribution. Explain in your own words what happened to that flat distribution of die-rolls to suddenly make it Gaussian just by taking some averages."
   ]
  },
  {
   "cell_type": "markdown",
   "metadata": {},
   "source": []
  },
  {
   "cell_type": "markdown",
   "metadata": {},
   "source": [
    "### Calculate the mean μ and standard deviation σobserved of the averaged values. Could you have predicted these values by reading DSFS pp. 78-80?"
   ]
  },
  {
   "cell_type": "markdown",
   "metadata": {},
   "source": []
  },
  {
   "cell_type": "markdown",
   "metadata": {},
   "source": [
    "# Part 4: Hypothesis and inference (DSFS Chapter 7)"
   ]
  },
  {
   "cell_type": "markdown",
   "metadata": {},
   "source": [
    "## Exercises: Did you read the text?"
   ]
  },
  {
   "cell_type": "markdown",
   "metadata": {},
   "source": [
    "### What's the null hypothesis when testing if a coin is fair?"
   ]
  },
  {
   "cell_type": "markdown",
   "metadata": {},
   "source": []
  },
  {
   "cell_type": "markdown",
   "metadata": {},
   "source": [
    "### Explain in your own words what Joel means by significance on p. 83."
   ]
  },
  {
   "cell_type": "markdown",
   "metadata": {},
   "source": []
  },
  {
   "cell_type": "markdown",
   "metadata": {},
   "source": [
    "### Explain in your own words what Joel means by power on p. 83."
   ]
  },
  {
   "cell_type": "markdown",
   "metadata": {},
   "source": []
  },
  {
   "cell_type": "markdown",
   "metadata": {},
   "source": [
    "### Write down a short definition of $p$-value."
   ]
  },
  {
   "cell_type": "markdown",
   "metadata": {},
   "source": []
  },
  {
   "cell_type": "markdown",
   "metadata": {},
   "source": [
    "### Explain the problem with $p$-hacking."
   ]
  },
  {
   "cell_type": "markdown",
   "metadata": {},
   "source": []
  }
 ],
 "metadata": {
  "kernelspec": {
   "display_name": "Python 2",
   "language": "python",
   "name": "python2"
  },
  "language_info": {
   "codemirror_mode": {
    "name": "ipython",
    "version": 2
   },
   "file_extension": ".py",
   "mimetype": "text/x-python",
   "name": "python",
   "nbconvert_exporter": "python",
   "pygments_lexer": "ipython2",
   "version": "2.7.11"
  }
 },
 "nbformat": 4,
 "nbformat_minor": 0
}
