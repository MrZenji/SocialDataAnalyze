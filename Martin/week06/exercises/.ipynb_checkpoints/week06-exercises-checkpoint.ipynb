{
 "cells": [
  {
   "cell_type": "markdown",
   "metadata": {},
   "source": [
    "# Week 6"
   ]
  },
  {
   "cell_type": "markdown",
   "metadata": {},
   "source": [
    "## Part 2: IDV Chapter 3"
   ]
  },
  {
   "cell_type": "markdown",
   "metadata": {},
   "source": [
    "### Exercises: Just a couple of questions to make sure you've read the text"
   ]
  },
  {
   "cell_type": "markdown",
   "metadata": {},
   "source": [
    "### Name 7 common HTML elements."
   ]
  },
  {
   "cell_type": "markdown",
   "metadata": {},
   "source": [
    "There a alot of different elements but some of the most commons are as follows if we use non HTML5:\n",
    "\n",
    "* div\n",
    "* p (paragraph)\n",
    "* ul (unordered list)\n",
    "* img (image)\n",
    "* a (anchor/link)\n",
    "* h1-h9 (headings)\n",
    "* b (bold)\n",
    "\n",
    "We could say that there are more, but if we talk HTML5 elements like the following:\n",
    "\n",
    "* section\n",
    "* article\n",
    "* footer\n",
    "* header\n",
    "\n",
    "could also be used as some of the most common"
   ]
  },
  {
   "cell_type": "markdown",
   "metadata": {},
   "source": [
    "### What's the difference between the `class` and the `id` HTML attributes."
   ]
  },
  {
   "cell_type": "markdown",
   "metadata": {},
   "source": [
    "The difference between a div and a class is the following:\n",
    "\n",
    "A div is a unique selector for both the element and for the page itself.\n",
    "Where class is not unique, and because we use javascript which uses the DOM to manipulate how the page is presented-"
   ]
  },
  {
   "cell_type": "markdown",
   "metadata": {},
   "source": [
    "### What does \"DOM\" stand for? Explain in your own word what it refers to."
   ]
  },
  {
   "cell_type": "markdown",
   "metadata": {},
   "source": [
    "DOM stands for Document Object Model, it is the place where all elements from the page is stored and can be manipulated."
   ]
  },
  {
   "cell_type": "markdown",
   "metadata": {},
   "source": [
    "### What Python structure does the `array` correspond to?"
   ]
  },
  {
   "cell_type": "markdown",
   "metadata": {},
   "source": [
    "In Javascript the array corresponds to the list in python"
   ]
  },
  {
   "cell_type": "markdown",
   "metadata": {},
   "source": [
    "### Which Python container does `object` correspond to?"
   ]
  },
  {
   "cell_type": "markdown",
   "metadata": {},
   "source": [
    "In Javascript corresponds to the python dict"
   ]
  },
  {
   "cell_type": "markdown",
   "metadata": {},
   "source": [
    "### Consider the 5 SVG squares in example 3-22. Think about how you'd "
   ]
  },
  {
   "cell_type": "code",
   "execution_count": 12,
   "metadata": {
    "collapsed": false
   },
   "outputs": [
    {
     "data": {
      "text/html": [
       "\n",
       "<svg>\n",
       "<rect x=\"0\" y=\"0\" width=\"30\" height=\"30\" fill=\"purple\"/>\n",
       "<rect x=\"20\" y=\"5\" width=\"30\" height=\"30\" fill=\"blue\"/>\n",
       "<rect x=\"40\" y=\"10\" width=\"30\" height=\"30\" fill=\"green\"/>\n",
       "<rect x=\"60\" y=\"15\" width=\"30\" height=\"30\" fill=\"yellow\"/>\n",
       "<rect x=\"80\" y=\"20\" width=\"30\" height=\"30\" fill=\"red\"/>\n",
       "</svg>\n"
      ],
      "text/plain": [
       "<IPython.core.display.HTML object>"
      ]
     },
     "execution_count": 12,
     "metadata": {},
     "output_type": "execute_result"
    }
   ],
   "source": [
    "# import html display for python\n",
    "from IPython.core.display import HTML\n",
    "\n",
    "# print the squares to the screen\n",
    "HTML('''\n",
    "<svg>\n",
    "    <rect x=\"0\" y=\"0\" width=\"30\" height=\"30\" fill=\"purple\"/>\n",
    "    <rect x=\"20\" y=\"5\" width=\"30\" height=\"30\" fill=\"blue\"/>\n",
    "    <rect x=\"40\" y=\"10\" width=\"30\" height=\"30\" fill=\"green\"/>\n",
    "    <rect x=\"60\" y=\"15\" width=\"30\" height=\"30\" fill=\"yellow\"/>\n",
    "    <rect x=\"80\" y=\"20\" width=\"30\" height=\"30\" fill=\"red\"/>\n",
    "</svg>\n",
    "''')"
   ]
  },
  {
   "cell_type": "markdown",
   "metadata": {},
   "source": [
    "### Add a gray boundary of width 2."
   ]
  },
  {
   "cell_type": "code",
   "execution_count": 13,
   "metadata": {
    "collapsed": false
   },
   "outputs": [
    {
     "data": {
      "text/html": [
       "\n",
       "<svg>\n",
       "    <rect x=\"0\" y=\"0\" width=\"30\" height=\"30\" fill=\"purple\" stroke=\"gray\" stroke-width=\"2\"/>\n",
       "    <rect x=\"20\" y=\"5\" width=\"30\" height=\"30\" fill=\"blue\"  stroke=\"gray\" stroke-width=\"2\"/>\n",
       "    <rect x=\"40\" y=\"10\" width=\"30\" height=\"30\" fill=\"green\" stroke=\"gray\" stroke-width=\"2\"/>\n",
       "    <rect x=\"60\" y=\"15\" width=\"30\" height=\"30\" fill=\"yellow\" stroke=\"gray\" stroke-width=\"2\"/>\n",
       "    <rect x=\"80\" y=\"20\" width=\"30\" height=\"30\" fill=\"red\" stroke=\"gray\" stroke-width=\"2\"/>\n",
       "</svg>\n"
      ],
      "text/plain": [
       "<IPython.core.display.HTML object>"
      ]
     },
     "execution_count": 13,
     "metadata": {},
     "output_type": "execute_result"
    }
   ],
   "source": [
    "# print the squares with gray stroke to the screen\n",
    "HTML('''\n",
    "<svg>\n",
    "    <rect x=\"0\" y=\"0\" width=\"30\" height=\"30\" fill=\"purple\" stroke=\"gray\" stroke-width=\"2\"/>\n",
    "    <rect x=\"20\" y=\"5\" width=\"30\" height=\"30\" fill=\"blue\"  stroke=\"gray\" stroke-width=\"2\"/>\n",
    "    <rect x=\"40\" y=\"10\" width=\"30\" height=\"30\" fill=\"green\" stroke=\"gray\" stroke-width=\"2\"/>\n",
    "    <rect x=\"60\" y=\"15\" width=\"30\" height=\"30\" fill=\"yellow\" stroke=\"gray\" stroke-width=\"2\"/>\n",
    "    <rect x=\"80\" y=\"20\" width=\"30\" height=\"30\" fill=\"red\" stroke=\"gray\" stroke-width=\"2\"/>\n",
    "</svg>\n",
    "''')"
   ]
  },
  {
   "cell_type": "markdown",
   "metadata": {},
   "source": [
    "### Make the squares increasingly transparant from left to right."
   ]
  },
  {
   "cell_type": "code",
   "execution_count": 22,
   "metadata": {
    "collapsed": false
   },
   "outputs": [
    {
     "data": {
      "text/html": [
       "\n",
       "<svg>\n",
       "    <rect x=\"0\" y=\"0\" width=\"30\" height=\"30\" fill=\"purple\" fill-opacity=\"0.8\"/>\n",
       "    <rect x=\"20\" y=\"5\" width=\"30\" height=\"30\" fill=\"blue\" fill-opacity=\"0.7\" stroke=\"gray\" stroke-width=\"2\"/>\n",
       "    <rect x=\"40\" y=\"10\" width=\"30\" height=\"30\" fill=\"green\" stroke=\"gray\" fill-opacity=\"0.6\" stroke-width=\"2\"/>\n",
       "    <rect x=\"60\" y=\"15\" width=\"30\" height=\"30\" fill=\"yellow\" stroke=\"gray\" fill-opacity=\"0.5\" stroke-width=\"2\"/>\n",
       "    <rect x=\"80\" y=\"20\" width=\"30\" height=\"30\" fill=\"red\" stroke=\"gray\" fill-opacity=\"0.4\" stroke-width=\"2\"/>\n",
       "</svg>\n"
      ],
      "text/plain": [
       "<IPython.core.display.HTML object>"
      ]
     },
     "execution_count": 22,
     "metadata": {},
     "output_type": "execute_result"
    }
   ],
   "source": [
    "# print the squares with gray stroke and opacity to the screen\n",
    "HTML('''\n",
    "<svg>\n",
    "    <rect x=\"0\" y=\"0\" width=\"30\" height=\"30\" fill=\"purple\" fill-opacity=\"0.8\" stroke=\"gray\" stroke-width=\"2\"/>\n",
    "    <rect x=\"20\" y=\"5\" width=\"30\" height=\"30\" fill=\"blue\" fill-opacity=\"0.7\" stroke=\"gray\" stroke-width=\"2\"/>\n",
    "    <rect x=\"40\" y=\"10\" width=\"30\" height=\"30\" fill=\"green\" stroke=\"gray\" fill-opacity=\"0.6\" stroke-width=\"2\"/>\n",
    "    <rect x=\"60\" y=\"15\" width=\"30\" height=\"30\" fill=\"yellow\" stroke=\"gray\" fill-opacity=\"0.5\" stroke-width=\"2\"/>\n",
    "    <rect x=\"80\" y=\"20\" width=\"30\" height=\"30\" fill=\"red\" stroke=\"gray\" fill-opacity=\"0.4\" stroke-width=\"2\"/>\n",
    "</svg>\n",
    "''')"
   ]
  },
  {
   "cell_type": "markdown",
   "metadata": {},
   "source": [
    "### Make the squares 80 by 80 instead of 30 by 30."
   ]
  },
  {
   "cell_type": "code",
   "execution_count": 24,
   "metadata": {
    "collapsed": false
   },
   "outputs": [
    {
     "data": {
      "text/html": [
       "\n",
       "<svg>\n",
       "    <rect x=\"0\" y=\"0\" width=\"80\" height=\"80\" fill=\"purple\" fill-opacity=\"0.8\" stroke=\"gray\" stroke-width=\"2\"/>\n",
       "    <rect x=\"20\" y=\"5\" width=\"80\" height=\"80\" fill=\"blue\" fill-opacity=\"0.7\" stroke=\"gray\" stroke-width=\"2\"/>\n",
       "    <rect x=\"40\" y=\"10\" width=\"80\" height=\"80\" fill=\"green\" fill-opacity=\"0.6\" stroke=\"gray\" stroke-width=\"2\"/>\n",
       "    <rect x=\"60\" y=\"15\" width=\"80\" height=\"80\" fill=\"yellow\" fill-opacity=\"0.5\" stroke=\"gray\" stroke-width=\"2\"/>\n",
       "    <rect x=\"80\" y=\"20\" width=\"80\" height=\"80\" fill=\"red\" fill-opacity=\"0.4\" stroke=\"gray\" stroke-width=\"2\"/>\n",
       "</svg>\n"
      ],
      "text/plain": [
       "<IPython.core.display.HTML object>"
      ]
     },
     "execution_count": 24,
     "metadata": {},
     "output_type": "execute_result"
    }
   ],
   "source": [
    "# print the squares to the screen in the size of 80x80\n",
    "HTML('''\n",
    "<svg>\n",
    "    <rect x=\"0\" y=\"0\" width=\"80\" height=\"80\" fill=\"purple\" fill-opacity=\"0.8\" stroke=\"gray\" stroke-width=\"2\"/>\n",
    "    <rect x=\"20\" y=\"5\" width=\"80\" height=\"80\" fill=\"blue\" fill-opacity=\"0.7\" stroke=\"gray\" stroke-width=\"2\"/>\n",
    "    <rect x=\"40\" y=\"10\" width=\"80\" height=\"80\" fill=\"green\" fill-opacity=\"0.6\" stroke=\"gray\" stroke-width=\"2\"/>\n",
    "    <rect x=\"60\" y=\"15\" width=\"80\" height=\"80\" fill=\"yellow\" fill-opacity=\"0.5\" stroke=\"gray\" stroke-width=\"2\"/>\n",
    "    <rect x=\"80\" y=\"20\" width=\"80\" height=\"80\" fill=\"red\" fill-opacity=\"0.4\" stroke=\"gray\" stroke-width=\"2\"/>\n",
    "</svg>\n",
    "''')"
   ]
  },
  {
   "cell_type": "markdown",
   "metadata": {},
   "source": [
    "### Make the squares go from bottom of the SVG element to the top instead of the other way around."
   ]
  },
  {
   "cell_type": "code",
   "execution_count": 26,
   "metadata": {
    "collapsed": false
   },
   "outputs": [
    {
     "data": {
      "text/html": [
       "\n",
       "<svg>\n",
       "    <rect x=\"0\" y=\"20\" width=\"80\" height=\"80\" fill=\"purple\" fill-opacity=\"0.8\" stroke=\"gray\" stroke-width=\"2\"/>\n",
       "    <rect x=\"20\" y=\"15\" width=\"80\" height=\"80\" fill=\"blue\" fill-opacity=\"0.7\" stroke=\"gray\" stroke-width=\"2\"/>\n",
       "    <rect x=\"40\" y=\"10\" width=\"80\" height=\"80\" fill=\"green\" fill-opacity=\"0.6\" stroke=\"gray\" stroke-width=\"2\"/>\n",
       "    <rect x=\"60\" y=\"5\" width=\"80\" height=\"80\" fill=\"yellow\" fill-opacity=\"0.5\" stroke=\"gray\" stroke-width=\"2\"/>\n",
       "    <rect x=\"80\" y=\"0\" width=\"80\" height=\"80\" fill=\"red\" fill-opacity=\"0.4\" stroke=\"gray\" stroke-width=\"2\"/>\n",
       "</svg>\n"
      ],
      "text/plain": [
       "<IPython.core.display.HTML object>"
      ]
     },
     "execution_count": 26,
     "metadata": {},
     "output_type": "execute_result"
    }
   ],
   "source": [
    "# print the squares from bottom to top\n",
    "HTML('''\n",
    "<svg>\n",
    "    <rect x=\"0\" y=\"20\" width=\"80\" height=\"80\" fill=\"purple\" fill-opacity=\"0.8\" stroke=\"gray\" stroke-width=\"2\"/>\n",
    "    <rect x=\"20\" y=\"15\" width=\"80\" height=\"80\" fill=\"blue\" fill-opacity=\"0.7\" stroke=\"gray\" stroke-width=\"2\"/>\n",
    "    <rect x=\"40\" y=\"10\" width=\"80\" height=\"80\" fill=\"green\" fill-opacity=\"0.6\" stroke=\"gray\" stroke-width=\"2\"/>\n",
    "    <rect x=\"60\" y=\"5\" width=\"80\" height=\"80\" fill=\"yellow\" fill-opacity=\"0.5\" stroke=\"gray\" stroke-width=\"2\"/>\n",
    "    <rect x=\"80\" y=\"0\" width=\"80\" height=\"80\" fill=\"red\" fill-opacity=\"0.4\" stroke=\"gray\" stroke-width=\"2\"/>\n",
    "</svg>\n",
    "''')"
   ]
  },
  {
   "cell_type": "code",
   "execution_count": null,
   "metadata": {
    "collapsed": true
   },
   "outputs": [],
   "source": []
  }
 ],
 "metadata": {
  "kernelspec": {
   "display_name": "Python 2",
   "language": "python",
   "name": "python2"
  },
  "language_info": {
   "codemirror_mode": {
    "name": "ipython",
    "version": 2
   },
   "file_extension": ".py",
   "mimetype": "text/x-python",
   "name": "python",
   "nbconvert_exporter": "python",
   "pygments_lexer": "ipython2",
   "version": "2.7.11"
  }
 },
 "nbformat": 4,
 "nbformat_minor": 0
}
