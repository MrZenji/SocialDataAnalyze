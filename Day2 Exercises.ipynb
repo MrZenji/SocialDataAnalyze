{
 "cells": [
  {
   "cell_type": "markdown",
   "metadata": {},
   "source": [
    "# Chapter 5:\n",
    "## Q1:\n",
    "Mean is the average of a dataset, that mean's (pun intended), that you sum up all numbers of a dataset and then divide by the number of data in the dataset.\n",
    "\n",
    "Median is the number in the middele of a dataset, that mean in a dataset of 5 numbers, the third position is the median number. In a dataset that is even, you would have two numbers in the middle. You would then take the avg of those two numbers. But you are also able to use the median as a quantile for different percentage than 50.\n",
    "\n",
    "Dataset Different: [1,1,1,1,1,1,1,1,10,10,10] Mean: 3,45 Median: 1\n",
    "Dataset Same: [1,1,1,1,2,3,3,3,3] Mean: 2 Median: 2\n",
    "\n",
    "Variance is the average squared number of the difference from the mean.\n",
    "\n",
    "Simpson's Paradox is when datasets gives you a result, but when you look deeper in the data, and have a possibility to split the data up in sub sets, and they give another result. So if you look a food eg, junkfood might have alot more protiens than just fruit, but splitting junkfood and fruits up you will see that bananas have alot more protiens than most junkfood.\n",
    "\n",
    "The comic is \"funny\" because when you take a class you would normally learn something, and that he learned that correlation does not allways imply causation. But in the end he dosent seem to think so."
   ]
  },
  {
   "cell_type": "code",
   "execution_count": 83,
   "metadata": {
    "collapsed": false,
    "scrolled": true
   },
   "outputs": [
    {
     "data": {
      "text/plain": [
       "('data4.tsv', <httplib.HTTPMessage instance at 0x000000000478FC48>)"
      ]
     },
     "execution_count": 83,
     "metadata": {},
     "output_type": "execute_result"
    }
   ],
   "source": [
    "import urllib\n",
    "\n",
    "data1 = urllib.URLopener()\n",
    "data1.retrieve(\n",
    "    \"https://dl.dropboxusercontent.com/u/153071/teaching/02806_2016/data1.tsv\",\n",
    "    \"data1.tsv\")\n",
    "data2 = urllib.URLopener()\n",
    "data2.retrieve(\n",
    "    \"https://dl.dropboxusercontent.com/u/153071/teaching/02806_2016/data2.tsv\",\n",
    "    \"data2.tsv\")\n",
    "data3 = urllib.URLopener()\n",
    "data3.retrieve(\n",
    "    \"https://dl.dropboxusercontent.com/u/153071/teaching/02806_2016/data3.tsv\",\n",
    "    \"data3.tsv\")\n",
    "data4 = urllib.URLopener()\n",
    "data4.retrieve(\n",
    "    \"https://dl.dropboxusercontent.com/u/153071/teaching/02806_2016/data4.tsv\",\n",
    "    \"data4.tsv\")"
   ]
  },
  {
   "cell_type": "code",
   "execution_count": 90,
   "metadata": {
    "collapsed": false,
    "scrolled": false
   },
   "outputs": [
    {
     "name": "stdout",
     "output_type": "stream",
     "text": [
      "Data1 means: 9.00 & 7.50\n",
      "Data1 variance: 10.000 & 3.752\n",
      "Data1 correlation: 1.000 & 1.000\n",
      "Data2 means: 9.00 & 7.50\n",
      "Data2 variance: 10.000 & 3.752\n",
      "Data2 correlation: 1.000 & 1.000\n",
      "Data3 means: 9.00 & 7.50\n",
      "Data3 variance: 10.000 & 3.750\n",
      "Data3 correlation: 1.000 & 1.000\n",
      "Data4 means: 9.00 & 7.50\n",
      "Data4 variance: 10.000 & 3.748\n",
      "Data4 correlation: 1.000 & 1.000\n"
     ]
    }
   ],
   "source": [
    "import numpy as np\n",
    "import csv\n",
    "\n",
    "with open(\"data1.tsv\") as data1:\n",
    "    array=[]\n",
    "    array2=[]\n",
    "    data1 = csv.reader(data1, delimiter=\"\\t\")\n",
    "     \n",
    "    for data in data1:\n",
    "        array.append(int(data[0]))\n",
    "        array2.append(float(data[1]))\n",
    "    print \"Data1 means: \"+ \"{0:.2f}\".format(np.mean(array)) +\" & \"+ \"{0:.2f}\".format(np.mean(array2))\n",
    "    print \"Data1 variance: \"+ \"{0:.3f}\".format(np.var(array)) +\" & \"+ \"{0:.3f}\".format(np.var(array2))\n",
    "    print \"Data1 correlation: \"+ \"{0:.3f}\".format(np.corrcoef(array)) + \" & \"+\"{0:.3f}\".format(np.corrcoef(array2))\n",
    "    \n",
    "with open(\"data2.tsv\") as data2:\n",
    "    array=[]\n",
    "    array2=[]\n",
    "    data2 = csv.reader(data2, delimiter=\"\\t\")\n",
    "     \n",
    "    for data in data2:\n",
    "        array.append(int(data[0]))\n",
    "        array2.append(float(data[1]))\n",
    "    print \"Data2 means: \"+ \"{0:.2f}\".format(np.mean(array)) +\" & \"+ \"{0:.2f}\".format(np.mean(array2))\n",
    "    print \"Data2 variance: \"+ \"{0:.3f}\".format(np.var(array)) +\" & \"+ \"{0:.3f}\".format(np.var(array2))\n",
    "    print \"Data2 correlation: \"+ \"{0:.3f}\".format(np.corrcoef(array)) + \" & \"+\"{0:.3f}\".format(np.corrcoef(array2))\n",
    "\n",
    "with open(\"data3.tsv\") as data3:\n",
    "    array=[]\n",
    "    array3=[]\n",
    "    data3 = csv.reader(data3, delimiter=\"\\t\")\n",
    "     \n",
    "    for data in data3:\n",
    "        array.append(int(data[0]))\n",
    "        array2.append(float(data[1]))\n",
    "    print \"Data3 means: \"+ \"{0:.2f}\".format(np.mean(array)) +\" & \"+ \"{0:.2f}\".format(np.mean(array2))\n",
    "    print \"Data3 variance: \"+ \"{0:.3f}\".format(np.var(array)) +\" & \"+ \"{0:.3f}\".format(np.var(array2))\n",
    "    print \"Data3 correlation: \"+ \"{0:.3f}\".format(np.corrcoef(array)) + \" & \"+\"{0:.3f}\".format(np.corrcoef(array2))\n",
    "    \n",
    "with open(\"data4.tsv\") as data4:\n",
    "    array=[]\n",
    "    array2=[]\n",
    "    data4 = csv.reader(data4, delimiter=\"\\t\")\n",
    "     \n",
    "    for data in data4:\n",
    "        array.append(int(data[0]))\n",
    "        array2.append(float(data[1]))\n",
    "    print \"Data4 means: \"+ \"{0:.2f}\".format(np.mean(array)) +\" & \"+ \"{0:.2f}\".format(np.mean(array2))\n",
    "    print \"Data4 variance: \"+ \"{0:.3f}\".format(np.var(array)) +\" & \"+ \"{0:.3f}\".format(np.var(array2))\n",
    "    print \"Data4 correlation: \"+ \"{0:.3f}\".format(np.corrcoef(array)) + \" & \"+\"{0:.3f}\".format(np.corrcoef(array2))"
   ]
  },
  {
   "cell_type": "code",
   "execution_count": null,
   "metadata": {
    "collapsed": true
   },
   "outputs": [],
   "source": [
    "from scipy import stats\n",
    "from matplotlib import pyplot as plt\n",
    "slope, intercept, r_value, p_value, std_err = stats.linregress(x,y)\n",
    "\n"
   ]
  }
 ],
 "metadata": {
  "kernelspec": {
   "display_name": "Python 2",
   "language": "python",
   "name": "python2"
  },
  "language_info": {
   "codemirror_mode": {
    "name": "ipython",
    "version": 2
   },
   "file_extension": ".py",
   "mimetype": "text/x-python",
   "name": "python",
   "nbconvert_exporter": "python",
   "pygments_lexer": "ipython2",
   "version": "2.7.10"
  }
 },
 "nbformat": 4,
 "nbformat_minor": 0
}
